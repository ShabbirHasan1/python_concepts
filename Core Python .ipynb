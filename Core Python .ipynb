{
 "cells": [
  {
   "cell_type": "markdown",
   "id": "bbf7910e",
   "metadata": {},
   "source": [
    "# Python Introduction\n",
    "Python is a very popular general-purpose interpreted, interactive, object-oriented, and high-level programming language. Python is dynamically-typed and garbage-collected programming language. It was created by Guido van Rossum during 1985- 1990. Like Perl, Python source code is also available under the GNU General Public License (GPL).\n",
    "\n",
    "Python is a MUST for students and working professionals to become a great Software Engineer specially when they are working in Web Development Domain. I will list down some of the key advantages of learning Python:\n",
    "\n",
    "- Python is Interpreted − Python is processed at runtime by the interpreter. You do not need to compile your program before executing it. This is similar to PERL and PHP.\n",
    "- Python is Interactive − You can actually sit at a Python prompt and interact with the interpreter directly to write your programs.\n",
    "- Python is Object-Oriented − Python supports Object-Oriented style or technique of programming that encapsulates code within objects.\n",
    "- Python is a Beginner's Language − Python is a great language for the beginner-level programmers and supports the development of a wide range of applications from simple text processing to WWW browsers to games."
   ]
  },
  {
   "cell_type": "markdown",
   "id": "3ae242cf",
   "metadata": {},
   "source": [
    "## Your first python program\n",
    "```print('Hello, World')```\n"
   ]
  },
  {
   "cell_type": "markdown",
   "id": "6fc0253f",
   "metadata": {},
   "source": [
    "## 1. Python Keywords\n",
    "Keywords are the reserved words in Python. We can't use these keywords as identifiers (variable names), function names, etc. They're used to define the syntax & structure of Python. "
   ]
  },
  {
   "cell_type": "markdown",
   "id": "c5c10f5b",
   "metadata": {},
   "source": [
    "```False               break               for                 not\n",
    "None                class               from                or\n",
    "True                continue            global              pass\n",
    "__peg_parser__      def                 if                  raise\n",
    "and                 del                 import              return\n",
    "as                  elif                in                  try\n",
    "assert              else                is                  while\n",
    "async               except              lambda              with\n",
    "await               finally             nonlocal            yield```"
   ]
  },
  {
   "cell_type": "markdown",
   "id": "aa81b684",
   "metadata": {},
   "source": [
    "## 2. Python Variables\n",
    "A variable is a named location used to store data in memory. Think of variables like a container that holds data and can be changed later in the program. \n"
   ]
  },
  {
   "cell_type": "code",
   "execution_count": 20,
   "id": "ace23dda",
   "metadata": {},
   "outputs": [
    {
     "name": "stdout",
     "output_type": "stream",
     "text": [
      "3.89\n"
     ]
    }
   ],
   "source": [
    "gas_price = 3.89 # We declared and assigned value to the variables gas_price \n",
    "print(gas_price)"
   ]
  },
  {
   "cell_type": "code",
   "execution_count": 21,
   "id": "ca76aa69",
   "metadata": {},
   "outputs": [
    {
     "name": "stdout",
     "output_type": "stream",
     "text": [
      "4.890000000000001\n"
     ]
    }
   ],
   "source": [
    "gas_price = gas_price+1\n",
    "print(gas_price) # Increased gas price"
   ]
  },
  {
   "cell_type": "markdown",
   "id": "7b93c391",
   "metadata": {},
   "source": [
    "## 3. Python Data types\n",
    "Data types are an essential aspect of a programming language. As it comes down to Python there are several categorized data types built-in that we can leverage."
   ]
  },
  {
   "cell_type": "markdown",
   "id": "30b84fcf",
   "metadata": {},
   "source": [
    "### Numeric and String type data type \n",
    "With numeric types, there is three built-in option we can leverage.\n",
    "int, float, complex\n",
    "\n",
    "As it comes to string in Python, there is only one option: the str."
   ]
  },
  {
   "cell_type": "code",
   "execution_count": 38,
   "id": "9320ecd6",
   "metadata": {},
   "outputs": [
    {
     "name": "stdout",
     "output_type": "stream",
     "text": [
      "17\n",
      "Quant\n",
      "1j\n"
     ]
    }
   ],
   "source": [
    "my_str = \"Quant Engineering\"\n",
    "my_str = 'Quant Engineering' # Both are same\n",
    "print(len(my_str))\n",
    "print(my_str[:5])\n",
    "\n",
    "a = 1 # Int\n",
    "b = 3.14 # Float\n",
    "c = 1j # Complex\n",
    "print(c)"
   ]
  },
  {
   "cell_type": "markdown",
   "id": "71f41037",
   "metadata": {},
   "source": [
    "### Lists, Tuples, and Dictionaries\n",
    "\n",
    "- Lists are what they seem - a list of values. Each one of them is numbered, starting from zero - the first one is numbered zero, the second 1, the third 2, etc. You can remove values from the list, and add new values to the end.\n",
    "- Tuples are just like lists, but you can't change their values. The values that you give it first up, are the values that you are stuck with for the rest of the program. Again, each value is numbered starting from zero, for easy reference. \n",
    "- Dictionaries are similar to what their name suggests - a dictionary. In a dictionary, you have an 'index' of words, and for each of them a definition. In Python, the word is called a 'key', and the definition a 'value'. The values in a dictionary aren't numbered - they aren't in any specific order, either - the key does the same thing. You can add, remove, and modify the values in dictionaries."
   ]
  },
  {
   "cell_type": "code",
   "execution_count": 31,
   "id": "ff2ae76b",
   "metadata": {},
   "outputs": [
    {
     "name": "stdout",
     "output_type": "stream",
     "text": [
      "['Equity', 'Crypto', 900]\n",
      "['Equity', 'Crypto', 900, '$100']\n"
     ]
    }
   ],
   "source": [
    "my_list = [\"Equity\", \"Crypto\", 900]\n",
    "print(my_list)\n",
    "my_list.append('$100')\n",
    "print(my_list)"
   ]
  },
  {
   "cell_type": "code",
   "execution_count": 35,
   "id": "81b7752a",
   "metadata": {},
   "outputs": [
    {
     "name": "stdout",
     "output_type": "stream",
     "text": [
      "('Equity', 'Crypto', 900)\n"
     ]
    }
   ],
   "source": [
    "my_tuple = (\"Equity\", \"Crypto\", 900)\n",
    "print(my_tuple)\n"
   ]
  },
  {
   "cell_type": "code",
   "execution_count": 39,
   "id": "95a1c6ef",
   "metadata": {},
   "outputs": [
    {
     "name": "stdout",
     "output_type": "stream",
     "text": [
      "{'CMCSA': 1.3, 'MSFT': 1.2, 'QQQ': 1.1, 'SPY': 1.0}\n"
     ]
    }
   ],
   "source": [
    "beta = {}\n",
    "\n",
    "#Add a couple of names to the dictionary\n",
    "beta['CMCSA'] = 1.3\n",
    "beta['MSFT'] = 1.2\n",
    "beta['QQQ'] = 1.1\n",
    "beta['SPY'] = 1.0\n",
    "print(beta)"
   ]
  },
  {
   "cell_type": "markdown",
   "id": "7678420b",
   "metadata": {},
   "source": [
    "### Set\n",
    "A set is unordered and unindexed, meaning it can't contain multiple of the same entry. Curly brackets define a set.\n"
   ]
  },
  {
   "cell_type": "code",
   "execution_count": 41,
   "id": "c9ceab17",
   "metadata": {},
   "outputs": [
    {
     "name": "stdout",
     "output_type": "stream",
     "text": [
      "{'MSFT', 'SPY', 'AMZ', 'QQQ'}\n"
     ]
    }
   ],
   "source": [
    "ticker = {'QQQ','SPY','MSFT','AMZ','QQQ'}\n",
    "print(ticker)"
   ]
  },
  {
   "cell_type": "markdown",
   "id": "9e375984",
   "metadata": {},
   "source": [
    "## 4. Function\n",
    "Functions are little self-contained programs that perform a specific task, which you can incorporate into your own, larger programs. After you have created a function, you can use it at any time, in any place. \n",
    "### Using function\n",
    "`value = function_name(parameters)`\n",
    "`Function_name` identifies which function it is you want to call and `parameters` are the values you pass to the function to tell it what is should do, and how to do it. `value` is the return value from function.\n",
    "a = pow(2,5)\n",
    "### Define Your Own Functions\n",
    "Using def we define our own funciton. This is how the def operator works:\n",
    "```\n",
    "def function_name(parameter_1,parameter_2):\n",
    "    {this is the code in the function}\n",
    "    {more code}\n",
    "    {more code}\n",
    "    return {value to return to the main program}\n",
    "{this code isn't in the function}\n",
    "{because it isn't indented}\n",
    "#remember to put a colon \":\" at the end of the line that starts with 'def'```"
   ]
  },
  {
   "cell_type": "markdown",
   "id": "ebedb161",
   "metadata": {
    "slideshow": {
     "slide_type": "slide"
    }
   },
   "source": [
    "# 5. Python Object Oriented Programming\n",
    "The objective of this tutorial is to give you an insight to object-oriented programming and help you understand its basics through practical examples.\n",
    "In this tutorial, we will cover the following concepts :\n",
    "\n",
    "What is Object-Oriented Programming?\n",
    "\n",
    "Class and Object.\n",
    "\n",
    "Attributes and Methods.\n",
    "\n",
    "Inheritance"
   ]
  },
  {
   "cell_type": "markdown",
   "id": "ef28e2d7",
   "metadata": {},
   "source": [
    "## What Is Object-Oriented Programming in Python?\n",
    "Object-oriented programming is an approach to modeling real-world elements, such as players in a game or employees in a company. A simple example of an object is a car with properties such as color, speed, brand and weight, and methods such as increase or decrease speed, stop, turn right or left.\n",
    "\n",
    "An object has basically two characteristics:\n",
    "\n",
    "Attributes\n",
    "Behaviors"
   ]
  },
  {
   "cell_type": "markdown",
   "id": "8015e4c2",
   "metadata": {},
   "source": [
    "## Class and Object\n",
    "We can define a class as a blueprint for the object. We can think of it as a sketch of a car containing all the details about the car. When class is defined, only the description for the object is defined. Therefore, no memory or storage is allocated. Meanwhile, an object (instance) is an instantiation of a class.\n",
    "\n",
    "You can consider a financial contract i.e. Option is like a class that defines the blueprint for the contract, and the object would be instance of the class i.e. option of Apple with $300 as strike price and 1 month from now as maturity etc."
   ]
  },
  {
   "cell_type": "markdown",
   "id": "1063a02f",
   "metadata": {},
   "source": [
    "## Attributes and Methods\n",
    "The attributes are a characteristic of an object.\n",
    "Let's take the previous example and define a class in python called EquityOption, to define a class in python we use the class keyword as follows:"
   ]
  },
  {
   "cell_type": "code",
   "execution_count": 5,
   "id": "6f5d52de",
   "metadata": {},
   "outputs": [],
   "source": [
    "class EquityOption:\n",
    "    def __init__(self, inst_name, option_type,stock_price, strike_price, volatility, time_to_maturity,risk_free_rate ):\n",
    "        self.inst_name = inst_name\n",
    "        self.option_type = option_type\n",
    "        self.stock_price = stock_price\n",
    "        self.strike_price = strike_price\n",
    "        self.volatility = volatility\n",
    "        self.time_to_maturity = time_to_maturity\n",
    "        self.risk_free_rate = risk_free_rate"
   ]
  },
  {
   "cell_type": "markdown",
   "id": "808fcc40",
   "metadata": {},
   "source": [
    "The init function the initializer method and it is called when an object is instantiated, for example if we want to create two option, each with specific properties, we will create two objects of the previous class, one called appl and the other amz for example :"
   ]
  },
  {
   "cell_type": "code",
   "execution_count": 6,
   "id": "116a8c16",
   "metadata": {},
   "outputs": [],
   "source": [
    "appl = EquityOption('APL','C',100,100,.5,.1,.05)\n",
    "amz = EquityOption('AMZ','P',225,200,.4,.1,.05)"
   ]
  },
  {
   "cell_type": "code",
   "execution_count": 7,
   "id": "4b5880a4",
   "metadata": {},
   "outputs": [
    {
     "name": "stdout",
     "output_type": "stream",
     "text": [
      "0.5\n"
     ]
    }
   ],
   "source": [
    "print(appl.volatility)"
   ]
  },
  {
   "cell_type": "markdown",
   "id": "c054b56b",
   "metadata": {},
   "source": [
    "Methods are functions defined inside the body of a class. They are used to define the behaviors of an object.\n",
    "Now, let's define a method called payoff():"
   ]
  },
  {
   "cell_type": "code",
   "execution_count": 5,
   "id": "0fe576f3",
   "metadata": {},
   "outputs": [],
   "source": [
    "class EquityOption:\n",
    "    def __init__(self, inst_name, option_type,stock_price, strike_price, volatility, time_to_maturity,risk_free_rate ):\n",
    "        self.inst_name = inst_name\n",
    "        self.option_type = option_type\n",
    "        self.stock_price = stock_price\n",
    "        self.strike_price = strike_price\n",
    "        self.volatility = volatility\n",
    "        self.time_to_maturity = time_to_maturity\n",
    "        self.risk_free_rate = risk_free_rate\n",
    "    def payoff(self):\n",
    "        if self.option_type == 'C':\n",
    "            payoff =  max(self.stock_price-self.strike_price,0)\n",
    "        else:\n",
    "            payoff =  max(self.strike_price-self.stock_price,0)\n",
    "        return payoff"
   ]
  },
  {
   "cell_type": "markdown",
   "id": "fe760f8f",
   "metadata": {},
   "source": [
    "This function takes self as parameter which points to the instantiated object. A method must have an extra first parameter in the method definition usually called \"self\". "
   ]
  },
  {
   "cell_type": "code",
   "execution_count": 10,
   "id": "27458576",
   "metadata": {},
   "outputs": [],
   "source": [
    "appl = EquityOption('APL','C',110,100,.5,.1,.05)\n",
    "amz = EquityOption('AMZ','P',225,250,.4,.1,.05)"
   ]
  },
  {
   "cell_type": "code",
   "execution_count": 11,
   "id": "30088328",
   "metadata": {},
   "outputs": [
    {
     "data": {
      "text/plain": [
       "10"
      ]
     },
     "execution_count": 11,
     "metadata": {},
     "output_type": "execute_result"
    }
   ],
   "source": [
    "appl.payoff()"
   ]
  },
  {
   "cell_type": "code",
   "execution_count": 12,
   "id": "a2ef8537",
   "metadata": {},
   "outputs": [
    {
     "data": {
      "text/plain": [
       "25"
      ]
     },
     "execution_count": 12,
     "metadata": {},
     "output_type": "execute_result"
    }
   ],
   "source": [
    "amz.payoff()"
   ]
  },
  {
   "cell_type": "markdown",
   "id": "c0765feb",
   "metadata": {},
   "source": [
    "## 6. Exception handling\n"
   ]
  },
  {
   "cell_type": "markdown",
   "id": "8a8bcca2",
   "metadata": {},
   "source": [
    "In Python Errors are syntax errors or system errors(like out of memory) and exceptions are logical errors. \n",
    "\n",
    "We can handle these errors to avoid program to avoid\n",
    "Few python exceptions\n",
    "\n",
    "\n",
    "- Name error:\tIf non existing variable is tried to be accessed\n",
    "- Value error:\tIf wrong value is passed in parameters ,eg sqrt(-5)\n",
    "- Type error:\tIf wrong data type is used\n",
    "- Key error:\tIf non existing key is requested from dictionary\n",
    "- Attribute error:\tIf .property doesn't exist,eg obj.foo and foo doesn't exist\n",
    "- Index error:\tIf index out of datatype is tried to be accessed\n"
   ]
  },
  {
   "cell_type": "markdown",
   "id": "8489e066",
   "metadata": {},
   "source": [
    "```python\n",
    "try:\n",
    "    run this code\n",
    "except:\n",
    "    excute this code when exception\n",
    "else:\n",
    "    No exception? run this code\n",
    "finally: \n",
    "    always run this code\n",
    "```"
   ]
  },
  {
   "cell_type": "code",
   "execution_count": 42,
   "id": "b52e4b7f",
   "metadata": {},
   "outputs": [
    {
     "name": "stdout",
     "output_type": "stream",
     "text": [
      "Division error\n"
     ]
    }
   ],
   "source": [
    "a = 10\n",
    "b = 0\n",
    "try:  # always\n",
    "    value=a/b\n",
    "    print(value)\n",
    "except ZeroDivisionError:  # if error\n",
    "    print('Division error')\n",
    "except:\n",
    "    print('Any other generic exception')\n",
    "else:  # If no error\n",
    "    print('No error')"
   ]
  },
  {
   "cell_type": "markdown",
   "id": "3b790d3a",
   "metadata": {},
   "source": [
    "## 7. Python read and write files\n",
    "### Read files in Python\n",
    "The first part of file interaction would be to read data from an existing file.\n",
    "Let's create a basic txt file called text.txt at the root of our project. To read this file in Python, we can use the open() function built into Python.\n",
    "After opening the file, we can use the file.read() function to see what's in it"
   ]
  },
  {
   "cell_type": "code",
   "execution_count": null,
   "id": "a6ee18be",
   "metadata": {},
   "outputs": [],
   "source": [
    "file = open('test.txt', 'r')\n",
    "print(file.read())"
   ]
  },
  {
   "cell_type": "markdown",
   "id": "f40fdf8c",
   "metadata": {},
   "source": [
    "### Write data to a file in Python\n",
    "There are two options when we open a file for writing.\n",
    "\n",
    "- a: Append data to the existing file\n",
    "- w: Write, this option will overwrite any existing content"
   ]
  },
  {
   "cell_type": "code",
   "execution_count": null,
   "id": "9caed6d4",
   "metadata": {},
   "outputs": [],
   "source": [
    "file = open('test.txt', 'w')\n",
    "file.write(\"I have new content now\")\n",
    "file.close()"
   ]
  },
  {
   "cell_type": "markdown",
   "id": "be3c9671",
   "metadata": {},
   "source": [
    "## 8. Python OS Module\n",
    "OS Module is one of the Python built-in modules. It comes ready to use in the Python Standard Library. The module contains several useful functions that help us to access, modify, and perform OS-related tasks such as access and modifying directories.\n",
    "```python\n",
    "import os\n",
    "print(os.getcwd())\n",
    "```"
   ]
  },
  {
   "cell_type": "code",
   "execution_count": null,
   "id": "04304ed0",
   "metadata": {},
   "outputs": [],
   "source": []
  }
 ],
 "metadata": {
  "kernelspec": {
   "display_name": "Python 3 (ipykernel)",
   "language": "python",
   "name": "python3"
  },
  "language_info": {
   "codemirror_mode": {
    "name": "ipython",
    "version": 3
   },
   "file_extension": ".py",
   "mimetype": "text/x-python",
   "name": "python",
   "nbconvert_exporter": "python",
   "pygments_lexer": "ipython3",
   "version": "3.9.12"
  }
 },
 "nbformat": 4,
 "nbformat_minor": 5
}

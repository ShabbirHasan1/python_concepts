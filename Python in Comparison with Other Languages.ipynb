{
 "cells": [
  {
   "cell_type": "markdown",
   "id": "bad79802",
   "metadata": {},
   "source": [
    "The most prevalent paradigm of Python is object-oriented programming (also\n",
    "known as OOP). It is centered around objects that encapsulate data (in the form\n",
    "of object attributes) and behavior (in the form of methods). OOP is probably one of the most diverse paradigms. It has many styles, flavors, and implementations that have been developed over many years of programming history. Python takes inspiration from many other languages. \n",
    "Lets take a look at the implementation of OOP in Python through the prism of different languages.\n",
    "# Comparisons w.r.t OOPs\n",
    "Python may not have as many object-oriented features as other OOP languages, but it has a pretty flexible data and class model that allows you to implement most OOP patterns with extreme elegance. Also, everything in Python is an object, including functions and class definitions and basic values like integers, floats, Booleans, and strings.\n",
    "\n",
    "### A few similarities with Kotlin\n",
    "Another popular programming language that has similar object-oriented syntax features and a similar data model, one of the closest matches would probably be Kotlin, which is a language that runs (mostly) on Java Virtual Machine (JVM). The following are the similarities between Kotlin and Python:\n",
    "1. A convenient way to call methods of super-classes: Kotlin provides the super\n",
    "keyword and Python provides the super() function to explicitly reference\n",
    "methods or attributes of super-classes.\n",
    "2. An expression for object self-reference: Kotlin provides the this expression, which always references the current object of the class. In Python, the first argument of the method is always an instance reference. By convention, it is named self.\n",
    "3. The concept of properties: Kotlin allows you to define class property setters and getters as functions. Python provides the property() decorator with a similar purpose, together with the concept of descriptors, which allows you\n",
    "to fully customize the attribute access of an object.\n",
    "\n"
   ]
  },
  {
   "cell_type": "markdown",
   "id": "2117ece6",
   "metadata": {},
   "source": [
    "## 1.Multiple inheritance and Method Resolution Order\n",
    "Python MRO is based on C3 linearization, the deterministic MRO algorithm\n",
    "originally created for the Dylan programming language. The C3 algorithm builds\n",
    "the linearization of a class, also called precedence, which is an ordered list of the ancestors.\n",
    "\n",
    "http://opendylan.org\n",
    "\n",
    "https://en.wikipedia.org/wiki/C3_linearization.\n",
    "\n",
    "Python MRO written by Michele Simionato describes linearization using the following words:\n",
    "The linearization of C is the sum of C plus the merge of the linearizations of the parents and the list of the parents.\n"
   ]
  },
  {
   "cell_type": "code",
   "execution_count": 10,
   "id": "c02bad73",
   "metadata": {},
   "outputs": [],
   "source": [
    "class CommonBase:\n",
    "    pass\n",
    "class Base1(CommonBase):\n",
    "    pass\n",
    "class Base2(CommonBase):\n",
    "    def method(self):\n",
    "        print(\"Base2.method() called\")\n",
    "class MyClass(Base1, Base2):\n",
    "    pass"
   ]
  },
  {
   "cell_type": "markdown",
   "id": "4b7db003",
   "metadata": {},
   "source": []
  },
  {
   "cell_type": "code",
   "execution_count": 13,
   "id": "9fdf5f8e",
   "metadata": {},
   "outputs": [],
   "source": []
  },
  {
   "cell_type": "markdown",
   "id": "2640923e",
   "metadata": {},
   "source": [
    "The __mro__ attribute of a class (which is read-only) stores the result of the C3linearization computation."
   ]
  },
  {
   "cell_type": "code",
   "execution_count": 12,
   "id": "671c9c58",
   "metadata": {},
   "outputs": [
    {
     "data": {
      "text/plain": [
       "(__main__.MyClass, __main__.Base1, __main__.Base2, __main__.CommonBase, object)"
      ]
     },
     "execution_count": 12,
     "metadata": {},
     "output_type": "execute_result"
    }
   ],
   "source": [
    "MyClass.__mro__"
   ]
  },
  {
   "cell_type": "markdown",
   "id": "0b1115e9",
   "metadata": {},
   "source": [
    "## 2.Class instance initialization\n",
    "Python classes do not require to define attributes in the class body. A variable comes into existence at the time it is initialized."
   ]
  },
  {
   "cell_type": "code",
   "execution_count": 15,
   "id": "b59f4b35",
   "metadata": {},
   "outputs": [],
   "source": [
    "class Point:\n",
    "    def __init__(self, x, y):\n",
    "        self.x = x\n",
    "        self.y = y"
   ]
  },
  {
   "cell_type": "markdown",
   "id": "d23bbf9c",
   "metadata": {},
   "source": [
    "In statically typed programming languages, the declaration of object fields\n",
    "is usually static and lives outside of the object initialization function. That's why programmers with a C++ or Java background often tend to replicate this pattern by assigning some default values as class attributes in the main class body. "
   ]
  },
  {
   "cell_type": "code",
   "execution_count": 16,
   "id": "adbb1fea",
   "metadata": {},
   "outputs": [],
   "source": [
    "class Point:\n",
    "    x = 0\n",
    "    y = 0\n",
    "    def __init__(self, x, y):\n",
    "        self.x = x\n",
    "        self.y = y"
   ]
  },
  {
   "cell_type": "markdown",
   "id": "e2669e26",
   "metadata": {},
   "source": [
    "It is redundant as class attribute values will always be shadowed by object attributes upon initialization. It is also dangerous, t can lead to\n",
    "problematic errors"
   ]
  },
  {
   "cell_type": "markdown",
   "id": "2816a403",
   "metadata": {},
   "source": [
    "## 3.Attributes access\n",
    "In statistically typed languages such as C++/JAVA, attributes are often restricted or open to outside of the class using public or private keyworks. Python believes the programmer knows that he is doing so there is no reason to restrict attributes. "
   ]
  },
  {
   "cell_type": "code",
   "execution_count": 1,
   "id": "1aa1f8e2",
   "metadata": {},
   "outputs": [],
   "source": [
    "class MyClass:\n",
    "    def __init__(self):\n",
    "        self.value = 1"
   ]
  },
  {
   "cell_type": "code",
   "execution_count": 3,
   "id": "a837f174",
   "metadata": {},
   "outputs": [
    {
     "data": {
      "text/plain": [
       "1"
      ]
     },
     "execution_count": 3,
     "metadata": {},
     "output_type": "execute_result"
    }
   ],
   "source": [
    "obj = MyClass()\n",
    "obj.value"
   ]
  },
  {
   "cell_type": "markdown",
   "id": "d710709c",
   "metadata": {},
   "source": [
    "``` c++\n",
    "#include <iostream>\n",
    "int main(){\n",
    "    class MyClass{\n",
    "        public:\n",
    "            int value = 1;\n",
    "         \n",
    "    }\n",
    "    obj = MyClass();\n",
    "    std::cout<<obj.value<<std::endl;\n",
    "\n",
    "}\n",
    "```"
   ]
  },
  {
   "cell_type": "markdown",
   "id": "76fc0288",
   "metadata": {},
   "source": [
    "## name mangling\n",
    "The Python feature that is nearest to this concept is name mangling. Every time an attribute is prefixed by __ (two underscores) within a class\n",
    "body, it is renamed by the interpreter on the fly."
   ]
  },
  {
   "cell_type": "code",
   "execution_count": 5,
   "id": "32571e04",
   "metadata": {},
   "outputs": [],
   "source": [
    "class MyClass:\n",
    "    def __init__(self):\n",
    "        self.__value = 1"
   ]
  },
  {
   "cell_type": "code",
   "execution_count": 6,
   "id": "bdd321fe",
   "metadata": {},
   "outputs": [
    {
     "ename": "AttributeError",
     "evalue": "'MyClass' object has no attribute 'value'",
     "output_type": "error",
     "traceback": [
      "\u001b[1;31m---------------------------------------------------------------------------\u001b[0m",
      "\u001b[1;31mAttributeError\u001b[0m                            Traceback (most recent call last)",
      "Input \u001b[1;32mIn [6]\u001b[0m, in \u001b[0;36m<cell line: 2>\u001b[1;34m()\u001b[0m\n\u001b[0;32m      1\u001b[0m obj \u001b[38;5;241m=\u001b[39m MyClass()\n\u001b[1;32m----> 2\u001b[0m \u001b[43mobj\u001b[49m\u001b[38;5;241;43m.\u001b[39;49m\u001b[43mvalue\u001b[49m\n",
      "\u001b[1;31mAttributeError\u001b[0m: 'MyClass' object has no attribute 'value'"
     ]
    }
   ],
   "source": [
    "obj = MyClass()\n",
    "obj.value"
   ]
  },
  {
   "cell_type": "code",
   "execution_count": 8,
   "id": "7a696775",
   "metadata": {},
   "outputs": [
    {
     "data": {
      "text/plain": [
       "1"
      ]
     },
     "execution_count": 8,
     "metadata": {},
     "output_type": "execute_result"
    }
   ],
   "source": [
    "obj._MyClass__value "
   ]
  },
  {
   "cell_type": "markdown",
   "id": "f90162a3",
   "metadata": {},
   "source": [
    "This just makes harder to access attributes, its not synonymous with private / protected.The purpose of name mangling is an implicit way to avoid naming collisions."
   ]
  },
  {
   "cell_type": "markdown",
   "id": "2a58b3ef",
   "metadata": {},
   "source": [
    "## Dynamic polymorphism"
   ]
  },
  {
   "cell_type": "markdown",
   "id": "10c6ab1f",
   "metadata": {},
   "source": [
    "### Comparison to C++"
   ]
  },
  {
   "cell_type": "markdown",
   "id": "5804ead2",
   "metadata": {},
   "source": [
    "C++, in contrast to Python, has multiple coexisting polymorphism mechanisms. The main mechanism is through subtyping, which is also available in Python. The second major type of polymorphism in C++ is ad hoc polymorphism through function overloading. Python lacks a direct counterpart of that feature."
   ]
  },
  {
   "cell_type": "markdown",
   "id": "f0b17d8b",
   "metadata": {},
   "source": [
    "# Functional programming"
   ]
  },
  {
   "cell_type": "markdown",
   "id": "6a7a6775",
   "metadata": {},
   "source": [
    "Python is not only about OOP. It supports other programming paradigms as\n",
    "well. One of those paradigms is functional programming, which concentrates on\n",
    "the evaluation of functions. Pure functional programming languages are usually\n",
    "drastically different than their OOP counterparts. But multiparadigm programming languages try to take the best of many programming styles."
   ]
  },
  {
   "cell_type": "code",
   "execution_count": null,
   "id": "7228c360",
   "metadata": {},
   "outputs": [],
   "source": []
  }
 ],
 "metadata": {
  "kernelspec": {
   "display_name": "Python 3 (ipykernel)",
   "language": "python",
   "name": "python3"
  },
  "language_info": {
   "codemirror_mode": {
    "name": "ipython",
    "version": 3
   },
   "file_extension": ".py",
   "mimetype": "text/x-python",
   "name": "python",
   "nbconvert_exporter": "python",
   "pygments_lexer": "ipython3",
   "version": "3.9.12"
  }
 },
 "nbformat": 4,
 "nbformat_minor": 5
}
